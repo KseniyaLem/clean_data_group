{
  "nbformat": 4,
  "nbformat_minor": 0,
  "metadata": {
    "colab": {
      "name": "Nosenko_kseniia.ipynb",
      "provenance": [],
      "machine_shape": "hm"
    },
    "kernelspec": {
      "name": "python3",
      "display_name": "Python 3"
    },
    "language_info": {
      "name": "python"
    },
    "gpuClass": "standard"
  },
  "cells": [
    {
      "cell_type": "code",
      "execution_count": null,
      "metadata": {
        "id": "V9BwL0v9Duzc"
      },
      "outputs": [],
      "source": [
        "import numpy as np \n",
        "import pandas as pd\n",
        "import matplotlib\n",
        "import matplotlib.pyplot as plt\n",
        "import seaborn as sns"
      ]
    },
    {
      "cell_type": "code",
      "source": [
        "from google.colab import drive\n",
        "drive.mount('/content/drive')\n",
        "\n",
        "import os\n",
        "os.chdir('/content/drive/MyDrive/Colab Notebooks/Data Glacier internship/Group_project')"
      ],
      "metadata": {
        "colab": {
          "base_uri": "https://localhost:8080/"
        },
        "id": "kQ4Dlv3QDzn_",
        "outputId": "9ed09384-1ddc-403d-e5b5-dc4a879057ca"
      },
      "execution_count": null,
      "outputs": [
        {
          "output_type": "stream",
          "name": "stdout",
          "text": [
            "Drive already mounted at /content/drive; to attempt to forcibly remount, call drive.mount(\"/content/drive\", force_remount=True).\n"
          ]
        }
      ]
    },
    {
      "cell_type": "code",
      "source": [
        "train_df = pd.read_csv('Train.csv')"
      ],
      "metadata": {
        "colab": {
          "base_uri": "https://localhost:8080/"
        },
        "id": "kPItc0fnFJJA",
        "outputId": "2c29c5c8-d4a3-40ea-d349-050f2ad43111"
      },
      "execution_count": null,
      "outputs": [
        {
          "output_type": "stream",
          "name": "stderr",
          "text": [
            "/usr/local/lib/python3.7/dist-packages/IPython/core/interactiveshell.py:2882: DtypeWarning: Columns (5,8,11,15) have mixed types.Specify dtype option on import or set low_memory=False.\n",
            "  exec(code_obj, self.user_global_ns, self.user_ns)\n"
          ]
        }
      ]
    },
    {
      "cell_type": "code",
      "source": [
        "train_df.shape"
      ],
      "metadata": {
        "colab": {
          "base_uri": "https://localhost:8080/"
        },
        "id": "miX5XraOGJn2",
        "outputId": "02a41016-be2c-49d7-fc44-ee585e573636"
      },
      "execution_count": null,
      "outputs": [
        {
          "output_type": "execute_result",
          "data": {
            "text/plain": [
              "(13647309, 48)"
            ]
          },
          "metadata": {},
          "execution_count": 5
        }
      ]
    },
    {
      "cell_type": "code",
      "source": [
        "train_df.head()"
      ],
      "metadata": {
        "colab": {
          "base_uri": "https://localhost:8080/",
          "height": 300
        },
        "id": "uP9hQjmAFNQs",
        "outputId": "91b321f7-8e88-4c39-a907-63ec4a50ff7f"
      },
      "execution_count": null,
      "outputs": [
        {
          "output_type": "execute_result",
          "data": {
            "text/plain": [
              "   fecha_dato  ncodpers ind_empleado pais_residencia sexo  age  fecha_alta  \\\n",
              "0  2015-01-28   1375586            N              ES    H   35  2015-01-12   \n",
              "1  2015-01-28   1050611            N              ES    V   23  2012-08-10   \n",
              "2  2015-01-28   1050612            N              ES    V   23  2012-08-10   \n",
              "3  2015-01-28   1050613            N              ES    H   22  2012-08-10   \n",
              "4  2015-01-28   1050614            N              ES    V   23  2012-08-10   \n",
              "\n",
              "   ind_nuevo antiguedad  indrel  ... ind_hip_fin_ult1 ind_plan_fin_ult1  \\\n",
              "0        0.0          6     1.0  ...                0                 0   \n",
              "1        0.0         35     1.0  ...                0                 0   \n",
              "2        0.0         35     1.0  ...                0                 0   \n",
              "3        0.0         35     1.0  ...                0                 0   \n",
              "4        0.0         35     1.0  ...                0                 0   \n",
              "\n",
              "  ind_pres_fin_ult1 ind_reca_fin_ult1 ind_tjcr_fin_ult1 ind_valo_fin_ult1  \\\n",
              "0                 0                 0                 0                 0   \n",
              "1                 0                 0                 0                 0   \n",
              "2                 0                 0                 0                 0   \n",
              "3                 0                 0                 0                 0   \n",
              "4                 0                 0                 0                 0   \n",
              "\n",
              "  ind_viv_fin_ult1 ind_nomina_ult1  ind_nom_pens_ult1  ind_recibo_ult1  \n",
              "0                0             0.0                0.0                0  \n",
              "1                0             0.0                0.0                0  \n",
              "2                0             0.0                0.0                0  \n",
              "3                0             0.0                0.0                0  \n",
              "4                0             0.0                0.0                0  \n",
              "\n",
              "[5 rows x 48 columns]"
            ],
            "text/html": [
              "\n",
              "  <div id=\"df-ba749420-f049-4223-8ad3-71740a88dd58\">\n",
              "    <div class=\"colab-df-container\">\n",
              "      <div>\n",
              "<style scoped>\n",
              "    .dataframe tbody tr th:only-of-type {\n",
              "        vertical-align: middle;\n",
              "    }\n",
              "\n",
              "    .dataframe tbody tr th {\n",
              "        vertical-align: top;\n",
              "    }\n",
              "\n",
              "    .dataframe thead th {\n",
              "        text-align: right;\n",
              "    }\n",
              "</style>\n",
              "<table border=\"1\" class=\"dataframe\">\n",
              "  <thead>\n",
              "    <tr style=\"text-align: right;\">\n",
              "      <th></th>\n",
              "      <th>fecha_dato</th>\n",
              "      <th>ncodpers</th>\n",
              "      <th>ind_empleado</th>\n",
              "      <th>pais_residencia</th>\n",
              "      <th>sexo</th>\n",
              "      <th>age</th>\n",
              "      <th>fecha_alta</th>\n",
              "      <th>ind_nuevo</th>\n",
              "      <th>antiguedad</th>\n",
              "      <th>indrel</th>\n",
              "      <th>...</th>\n",
              "      <th>ind_hip_fin_ult1</th>\n",
              "      <th>ind_plan_fin_ult1</th>\n",
              "      <th>ind_pres_fin_ult1</th>\n",
              "      <th>ind_reca_fin_ult1</th>\n",
              "      <th>ind_tjcr_fin_ult1</th>\n",
              "      <th>ind_valo_fin_ult1</th>\n",
              "      <th>ind_viv_fin_ult1</th>\n",
              "      <th>ind_nomina_ult1</th>\n",
              "      <th>ind_nom_pens_ult1</th>\n",
              "      <th>ind_recibo_ult1</th>\n",
              "    </tr>\n",
              "  </thead>\n",
              "  <tbody>\n",
              "    <tr>\n",
              "      <th>0</th>\n",
              "      <td>2015-01-28</td>\n",
              "      <td>1375586</td>\n",
              "      <td>N</td>\n",
              "      <td>ES</td>\n",
              "      <td>H</td>\n",
              "      <td>35</td>\n",
              "      <td>2015-01-12</td>\n",
              "      <td>0.0</td>\n",
              "      <td>6</td>\n",
              "      <td>1.0</td>\n",
              "      <td>...</td>\n",
              "      <td>0</td>\n",
              "      <td>0</td>\n",
              "      <td>0</td>\n",
              "      <td>0</td>\n",
              "      <td>0</td>\n",
              "      <td>0</td>\n",
              "      <td>0</td>\n",
              "      <td>0.0</td>\n",
              "      <td>0.0</td>\n",
              "      <td>0</td>\n",
              "    </tr>\n",
              "    <tr>\n",
              "      <th>1</th>\n",
              "      <td>2015-01-28</td>\n",
              "      <td>1050611</td>\n",
              "      <td>N</td>\n",
              "      <td>ES</td>\n",
              "      <td>V</td>\n",
              "      <td>23</td>\n",
              "      <td>2012-08-10</td>\n",
              "      <td>0.0</td>\n",
              "      <td>35</td>\n",
              "      <td>1.0</td>\n",
              "      <td>...</td>\n",
              "      <td>0</td>\n",
              "      <td>0</td>\n",
              "      <td>0</td>\n",
              "      <td>0</td>\n",
              "      <td>0</td>\n",
              "      <td>0</td>\n",
              "      <td>0</td>\n",
              "      <td>0.0</td>\n",
              "      <td>0.0</td>\n",
              "      <td>0</td>\n",
              "    </tr>\n",
              "    <tr>\n",
              "      <th>2</th>\n",
              "      <td>2015-01-28</td>\n",
              "      <td>1050612</td>\n",
              "      <td>N</td>\n",
              "      <td>ES</td>\n",
              "      <td>V</td>\n",
              "      <td>23</td>\n",
              "      <td>2012-08-10</td>\n",
              "      <td>0.0</td>\n",
              "      <td>35</td>\n",
              "      <td>1.0</td>\n",
              "      <td>...</td>\n",
              "      <td>0</td>\n",
              "      <td>0</td>\n",
              "      <td>0</td>\n",
              "      <td>0</td>\n",
              "      <td>0</td>\n",
              "      <td>0</td>\n",
              "      <td>0</td>\n",
              "      <td>0.0</td>\n",
              "      <td>0.0</td>\n",
              "      <td>0</td>\n",
              "    </tr>\n",
              "    <tr>\n",
              "      <th>3</th>\n",
              "      <td>2015-01-28</td>\n",
              "      <td>1050613</td>\n",
              "      <td>N</td>\n",
              "      <td>ES</td>\n",
              "      <td>H</td>\n",
              "      <td>22</td>\n",
              "      <td>2012-08-10</td>\n",
              "      <td>0.0</td>\n",
              "      <td>35</td>\n",
              "      <td>1.0</td>\n",
              "      <td>...</td>\n",
              "      <td>0</td>\n",
              "      <td>0</td>\n",
              "      <td>0</td>\n",
              "      <td>0</td>\n",
              "      <td>0</td>\n",
              "      <td>0</td>\n",
              "      <td>0</td>\n",
              "      <td>0.0</td>\n",
              "      <td>0.0</td>\n",
              "      <td>0</td>\n",
              "    </tr>\n",
              "    <tr>\n",
              "      <th>4</th>\n",
              "      <td>2015-01-28</td>\n",
              "      <td>1050614</td>\n",
              "      <td>N</td>\n",
              "      <td>ES</td>\n",
              "      <td>V</td>\n",
              "      <td>23</td>\n",
              "      <td>2012-08-10</td>\n",
              "      <td>0.0</td>\n",
              "      <td>35</td>\n",
              "      <td>1.0</td>\n",
              "      <td>...</td>\n",
              "      <td>0</td>\n",
              "      <td>0</td>\n",
              "      <td>0</td>\n",
              "      <td>0</td>\n",
              "      <td>0</td>\n",
              "      <td>0</td>\n",
              "      <td>0</td>\n",
              "      <td>0.0</td>\n",
              "      <td>0.0</td>\n",
              "      <td>0</td>\n",
              "    </tr>\n",
              "  </tbody>\n",
              "</table>\n",
              "<p>5 rows × 48 columns</p>\n",
              "</div>\n",
              "      <button class=\"colab-df-convert\" onclick=\"convertToInteractive('df-ba749420-f049-4223-8ad3-71740a88dd58')\"\n",
              "              title=\"Convert this dataframe to an interactive table.\"\n",
              "              style=\"display:none;\">\n",
              "        \n",
              "  <svg xmlns=\"http://www.w3.org/2000/svg\" height=\"24px\"viewBox=\"0 0 24 24\"\n",
              "       width=\"24px\">\n",
              "    <path d=\"M0 0h24v24H0V0z\" fill=\"none\"/>\n",
              "    <path d=\"M18.56 5.44l.94 2.06.94-2.06 2.06-.94-2.06-.94-.94-2.06-.94 2.06-2.06.94zm-11 1L8.5 8.5l.94-2.06 2.06-.94-2.06-.94L8.5 2.5l-.94 2.06-2.06.94zm10 10l.94 2.06.94-2.06 2.06-.94-2.06-.94-.94-2.06-.94 2.06-2.06.94z\"/><path d=\"M17.41 7.96l-1.37-1.37c-.4-.4-.92-.59-1.43-.59-.52 0-1.04.2-1.43.59L10.3 9.45l-7.72 7.72c-.78.78-.78 2.05 0 2.83L4 21.41c.39.39.9.59 1.41.59.51 0 1.02-.2 1.41-.59l7.78-7.78 2.81-2.81c.8-.78.8-2.07 0-2.86zM5.41 20L4 18.59l7.72-7.72 1.47 1.35L5.41 20z\"/>\n",
              "  </svg>\n",
              "      </button>\n",
              "      \n",
              "  <style>\n",
              "    .colab-df-container {\n",
              "      display:flex;\n",
              "      flex-wrap:wrap;\n",
              "      gap: 12px;\n",
              "    }\n",
              "\n",
              "    .colab-df-convert {\n",
              "      background-color: #E8F0FE;\n",
              "      border: none;\n",
              "      border-radius: 50%;\n",
              "      cursor: pointer;\n",
              "      display: none;\n",
              "      fill: #1967D2;\n",
              "      height: 32px;\n",
              "      padding: 0 0 0 0;\n",
              "      width: 32px;\n",
              "    }\n",
              "\n",
              "    .colab-df-convert:hover {\n",
              "      background-color: #E2EBFA;\n",
              "      box-shadow: 0px 1px 2px rgba(60, 64, 67, 0.3), 0px 1px 3px 1px rgba(60, 64, 67, 0.15);\n",
              "      fill: #174EA6;\n",
              "    }\n",
              "\n",
              "    [theme=dark] .colab-df-convert {\n",
              "      background-color: #3B4455;\n",
              "      fill: #D2E3FC;\n",
              "    }\n",
              "\n",
              "    [theme=dark] .colab-df-convert:hover {\n",
              "      background-color: #434B5C;\n",
              "      box-shadow: 0px 1px 3px 1px rgba(0, 0, 0, 0.15);\n",
              "      filter: drop-shadow(0px 1px 2px rgba(0, 0, 0, 0.3));\n",
              "      fill: #FFFFFF;\n",
              "    }\n",
              "  </style>\n",
              "\n",
              "      <script>\n",
              "        const buttonEl =\n",
              "          document.querySelector('#df-ba749420-f049-4223-8ad3-71740a88dd58 button.colab-df-convert');\n",
              "        buttonEl.style.display =\n",
              "          google.colab.kernel.accessAllowed ? 'block' : 'none';\n",
              "\n",
              "        async function convertToInteractive(key) {\n",
              "          const element = document.querySelector('#df-ba749420-f049-4223-8ad3-71740a88dd58');\n",
              "          const dataTable =\n",
              "            await google.colab.kernel.invokeFunction('convertToInteractive',\n",
              "                                                     [key], {});\n",
              "          if (!dataTable) return;\n",
              "\n",
              "          const docLinkHtml = 'Like what you see? Visit the ' +\n",
              "            '<a target=\"_blank\" href=https://colab.research.google.com/notebooks/data_table.ipynb>data table notebook</a>'\n",
              "            + ' to learn more about interactive tables.';\n",
              "          element.innerHTML = '';\n",
              "          dataTable['output_type'] = 'display_data';\n",
              "          await google.colab.output.renderOutput(dataTable, element);\n",
              "          const docLink = document.createElement('div');\n",
              "          docLink.innerHTML = docLinkHtml;\n",
              "          element.appendChild(docLink);\n",
              "        }\n",
              "      </script>\n",
              "    </div>\n",
              "  </div>\n",
              "  "
            ]
          },
          "metadata": {},
          "execution_count": 6
        }
      ]
    },
    {
      "cell_type": "code",
      "source": [
        "train_df.isnull().sum() / train_df.shape[0] *100"
      ],
      "metadata": {
        "colab": {
          "base_uri": "https://localhost:8080/"
        },
        "id": "C9p4Rd_dGlHq",
        "outputId": "deb7af2a-86c4-4247-fc6f-f17daa87cf4a"
      },
      "execution_count": null,
      "outputs": [
        {
          "output_type": "execute_result",
          "data": {
            "text/plain": [
              "fecha_dato                0.000000\n",
              "ncodpers                  0.000000\n",
              "ind_empleado              0.203220\n",
              "pais_residencia           0.203220\n",
              "sexo                      0.203732\n",
              "age                       0.000000\n",
              "fecha_alta                0.203220\n",
              "ind_nuevo                 0.203220\n",
              "antiguedad                0.000000\n",
              "indrel                    0.203220\n",
              "ult_fec_cli_1t           99.818330\n",
              "indrel_1mes               1.097513\n",
              "tiprel_1mes               1.097513\n",
              "indresi                   0.203220\n",
              "indext                    0.203220\n",
              "conyuemp                 99.986752\n",
              "canal_entrada             1.363829\n",
              "indfall                   0.203220\n",
              "tipodom                   0.203227\n",
              "cod_prov                  0.685784\n",
              "nomprov                   0.685784\n",
              "ind_actividad_cliente     0.203220\n",
              "renta                    20.475648\n",
              "segmento                  1.387585\n",
              "ind_ahor_fin_ult1         0.000000\n",
              "ind_aval_fin_ult1         0.000000\n",
              "ind_cco_fin_ult1          0.000000\n",
              "ind_cder_fin_ult1         0.000000\n",
              "ind_cno_fin_ult1          0.000000\n",
              "ind_ctju_fin_ult1         0.000000\n",
              "ind_ctma_fin_ult1         0.000000\n",
              "ind_ctop_fin_ult1         0.000000\n",
              "ind_ctpp_fin_ult1         0.000000\n",
              "ind_deco_fin_ult1         0.000000\n",
              "ind_deme_fin_ult1         0.000000\n",
              "ind_dela_fin_ult1         0.000000\n",
              "ind_ecue_fin_ult1         0.000000\n",
              "ind_fond_fin_ult1         0.000000\n",
              "ind_hip_fin_ult1          0.000000\n",
              "ind_plan_fin_ult1         0.000000\n",
              "ind_pres_fin_ult1         0.000000\n",
              "ind_reca_fin_ult1         0.000000\n",
              "ind_tjcr_fin_ult1         0.000000\n",
              "ind_valo_fin_ult1         0.000000\n",
              "ind_viv_fin_ult1          0.000000\n",
              "ind_nomina_ult1           0.117701\n",
              "ind_nom_pens_ult1         0.117701\n",
              "ind_recibo_ult1           0.000000\n",
              "dtype: float64"
            ]
          },
          "metadata": {},
          "execution_count": 7
        }
      ]
    },
    {
      "cell_type": "code",
      "source": [
        "train_df.duplicated().sum()"
      ],
      "metadata": {
        "id": "UR7FzMBVGhuY",
        "colab": {
          "base_uri": "https://localhost:8080/"
        },
        "outputId": "dfb401dc-19cc-4f63-cba3-247cf6bf9edb"
      },
      "execution_count": null,
      "outputs": [
        {
          "output_type": "execute_result",
          "data": {
            "text/plain": [
              "0"
            ]
          },
          "metadata": {},
          "execution_count": 9
        }
      ]
    },
    {
      "cell_type": "code",
      "source": [
        "train_df.info()"
      ],
      "metadata": {
        "id": "5Z9jiA0g4aUr",
        "colab": {
          "base_uri": "https://localhost:8080/"
        },
        "outputId": "8b9e4954-7b33-4114-dfe5-50d266a5c2b5"
      },
      "execution_count": null,
      "outputs": [
        {
          "output_type": "stream",
          "name": "stdout",
          "text": [
            "<class 'pandas.core.frame.DataFrame'>\n",
            "RangeIndex: 13647309 entries, 0 to 13647308\n",
            "Data columns (total 48 columns):\n",
            " #   Column                 Dtype  \n",
            "---  ------                 -----  \n",
            " 0   fecha_dato             object \n",
            " 1   ncodpers               int64  \n",
            " 2   ind_empleado           object \n",
            " 3   pais_residencia        object \n",
            " 4   sexo                   object \n",
            " 5   age                    object \n",
            " 6   fecha_alta             object \n",
            " 7   ind_nuevo              float64\n",
            " 8   antiguedad             object \n",
            " 9   indrel                 float64\n",
            " 10  ult_fec_cli_1t         object \n",
            " 11  indrel_1mes            object \n",
            " 12  tiprel_1mes            object \n",
            " 13  indresi                object \n",
            " 14  indext                 object \n",
            " 15  conyuemp               object \n",
            " 16  canal_entrada          object \n",
            " 17  indfall                object \n",
            " 18  tipodom                float64\n",
            " 19  cod_prov               float64\n",
            " 20  nomprov                object \n",
            " 21  ind_actividad_cliente  float64\n",
            " 22  renta                  float64\n",
            " 23  segmento               object \n",
            " 24  ind_ahor_fin_ult1      int64  \n",
            " 25  ind_aval_fin_ult1      int64  \n",
            " 26  ind_cco_fin_ult1       int64  \n",
            " 27  ind_cder_fin_ult1      int64  \n",
            " 28  ind_cno_fin_ult1       int64  \n",
            " 29  ind_ctju_fin_ult1      int64  \n",
            " 30  ind_ctma_fin_ult1      int64  \n",
            " 31  ind_ctop_fin_ult1      int64  \n",
            " 32  ind_ctpp_fin_ult1      int64  \n",
            " 33  ind_deco_fin_ult1      int64  \n",
            " 34  ind_deme_fin_ult1      int64  \n",
            " 35  ind_dela_fin_ult1      int64  \n",
            " 36  ind_ecue_fin_ult1      int64  \n",
            " 37  ind_fond_fin_ult1      int64  \n",
            " 38  ind_hip_fin_ult1       int64  \n",
            " 39  ind_plan_fin_ult1      int64  \n",
            " 40  ind_pres_fin_ult1      int64  \n",
            " 41  ind_reca_fin_ult1      int64  \n",
            " 42  ind_tjcr_fin_ult1      int64  \n",
            " 43  ind_valo_fin_ult1      int64  \n",
            " 44  ind_viv_fin_ult1       int64  \n",
            " 45  ind_nomina_ult1        float64\n",
            " 46  ind_nom_pens_ult1      float64\n",
            " 47  ind_recibo_ult1        int64  \n",
            "dtypes: float64(8), int64(23), object(17)\n",
            "memory usage: 4.9+ GB\n"
          ]
        }
      ]
    },
    {
      "cell_type": "markdown",
      "source": [
        "let's delete rows with a lot of missing values"
      ],
      "metadata": {
        "id": "jcCL2ReyiRS0"
      }
    },
    {
      "cell_type": "code",
      "source": [
        "del_rows = train_df[train_df.ind_empleado.isnull()].index "
      ],
      "metadata": {
        "id": "_juQwwMiFDmt"
      },
      "execution_count": null,
      "outputs": []
    },
    {
      "cell_type": "code",
      "source": [
        "train_df = train_df.drop(del_rows, axis = 0)"
      ],
      "metadata": {
        "id": "_5BbwAuGFL-f"
      },
      "execution_count": null,
      "outputs": []
    },
    {
      "cell_type": "markdown",
      "source": [
        "let's delete not-informative columns:\n",
        "\n",
        "  \n",
        "\n",
        "*   **ult_fec_cli_1t** and **conyuemp** have 99% null values. According to the instructions  conyuemp feature should contain number 1 if the customer is spouse of an employee. In dataset the feature conyuemp contain (N, S, nan) values. I suppose that N=No, S = Si (Yes). The number of clients with value ‘S’ = 17. We can delete these features because they contain too small info for analysis.\n",
        "*   the feature **tipodom** we can delete because only 1 row has missing value and other rows have the same value\n",
        "*   features **cod_prov** and **nomprov** explain the same information. We can delete one of them\n",
        "\n"
      ],
      "metadata": {
        "id": "KNqTVrGWQKXv"
      }
    },
    {
      "cell_type": "code",
      "source": [
        "train_df.drop(['ult_fec_cli_1t', 'conyuemp', 'tipodom', 'cod_prov'], axis=1, inplace=True)"
      ],
      "metadata": {
        "id": "-ua6C2jyQpBo"
      },
      "execution_count": null,
      "outputs": []
    },
    {
      "cell_type": "markdown",
      "source": [
        "# Cleaning and transforming data"
      ],
      "metadata": {
        "id": "zouwZhTtRgRm"
      }
    },
    {
      "cell_type": "markdown",
      "source": [
        "cleaning and transforming the features **age** and **antiguedad**"
      ],
      "metadata": {
        "id": "6g61STWdikyj"
      }
    },
    {
      "cell_type": "code",
      "source": [
        "#change type from object to int\n",
        "\n",
        "train_df['age'] = train_df['age'].astype(int) \n",
        "train_df['antiguedad'] = train_df['antiguedad'].astype(int)"
      ],
      "metadata": {
        "id": "zy9lHacNjOjn"
      },
      "execution_count": null,
      "outputs": []
    },
    {
      "cell_type": "code",
      "source": [
        "num_columns = ['age', 'antiguedad', 'renta']"
      ],
      "metadata": {
        "id": "iXOtD1lIf1mr"
      },
      "execution_count": null,
      "outputs": []
    },
    {
      "cell_type": "code",
      "source": [
        "train_df[num_columns].describe().apply(lambda s: s.apply('{0:.0f}'.format))"
      ],
      "metadata": {
        "colab": {
          "base_uri": "https://localhost:8080/",
          "height": 300
        },
        "id": "hAsFs9qnZ5HA",
        "outputId": "c925b8dc-7e5d-4465-fc40-cd2f88c10a62"
      },
      "execution_count": null,
      "outputs": [
        {
          "output_type": "execute_result",
          "data": {
            "text/plain": [
              "            age antiguedad     renta\n",
              "count  13619575   13619575  10852934\n",
              "mean         40         77    134254\n",
              "std          17       1672    230620\n",
              "min           2    -999999      1203\n",
              "25%          24         23     68711\n",
              "50%          39         50    101850\n",
              "75%          50        135    155956\n",
              "max         164        256  28894396"
            ],
            "text/html": [
              "\n",
              "  <div id=\"df-0bb834ab-c178-4084-9f0d-30b967a0a848\">\n",
              "    <div class=\"colab-df-container\">\n",
              "      <div>\n",
              "<style scoped>\n",
              "    .dataframe tbody tr th:only-of-type {\n",
              "        vertical-align: middle;\n",
              "    }\n",
              "\n",
              "    .dataframe tbody tr th {\n",
              "        vertical-align: top;\n",
              "    }\n",
              "\n",
              "    .dataframe thead th {\n",
              "        text-align: right;\n",
              "    }\n",
              "</style>\n",
              "<table border=\"1\" class=\"dataframe\">\n",
              "  <thead>\n",
              "    <tr style=\"text-align: right;\">\n",
              "      <th></th>\n",
              "      <th>age</th>\n",
              "      <th>antiguedad</th>\n",
              "      <th>renta</th>\n",
              "    </tr>\n",
              "  </thead>\n",
              "  <tbody>\n",
              "    <tr>\n",
              "      <th>count</th>\n",
              "      <td>13619575</td>\n",
              "      <td>13619575</td>\n",
              "      <td>10852934</td>\n",
              "    </tr>\n",
              "    <tr>\n",
              "      <th>mean</th>\n",
              "      <td>40</td>\n",
              "      <td>77</td>\n",
              "      <td>134254</td>\n",
              "    </tr>\n",
              "    <tr>\n",
              "      <th>std</th>\n",
              "      <td>17</td>\n",
              "      <td>1672</td>\n",
              "      <td>230620</td>\n",
              "    </tr>\n",
              "    <tr>\n",
              "      <th>min</th>\n",
              "      <td>2</td>\n",
              "      <td>-999999</td>\n",
              "      <td>1203</td>\n",
              "    </tr>\n",
              "    <tr>\n",
              "      <th>25%</th>\n",
              "      <td>24</td>\n",
              "      <td>23</td>\n",
              "      <td>68711</td>\n",
              "    </tr>\n",
              "    <tr>\n",
              "      <th>50%</th>\n",
              "      <td>39</td>\n",
              "      <td>50</td>\n",
              "      <td>101850</td>\n",
              "    </tr>\n",
              "    <tr>\n",
              "      <th>75%</th>\n",
              "      <td>50</td>\n",
              "      <td>135</td>\n",
              "      <td>155956</td>\n",
              "    </tr>\n",
              "    <tr>\n",
              "      <th>max</th>\n",
              "      <td>164</td>\n",
              "      <td>256</td>\n",
              "      <td>28894396</td>\n",
              "    </tr>\n",
              "  </tbody>\n",
              "</table>\n",
              "</div>\n",
              "      <button class=\"colab-df-convert\" onclick=\"convertToInteractive('df-0bb834ab-c178-4084-9f0d-30b967a0a848')\"\n",
              "              title=\"Convert this dataframe to an interactive table.\"\n",
              "              style=\"display:none;\">\n",
              "        \n",
              "  <svg xmlns=\"http://www.w3.org/2000/svg\" height=\"24px\"viewBox=\"0 0 24 24\"\n",
              "       width=\"24px\">\n",
              "    <path d=\"M0 0h24v24H0V0z\" fill=\"none\"/>\n",
              "    <path d=\"M18.56 5.44l.94 2.06.94-2.06 2.06-.94-2.06-.94-.94-2.06-.94 2.06-2.06.94zm-11 1L8.5 8.5l.94-2.06 2.06-.94-2.06-.94L8.5 2.5l-.94 2.06-2.06.94zm10 10l.94 2.06.94-2.06 2.06-.94-2.06-.94-.94-2.06-.94 2.06-2.06.94z\"/><path d=\"M17.41 7.96l-1.37-1.37c-.4-.4-.92-.59-1.43-.59-.52 0-1.04.2-1.43.59L10.3 9.45l-7.72 7.72c-.78.78-.78 2.05 0 2.83L4 21.41c.39.39.9.59 1.41.59.51 0 1.02-.2 1.41-.59l7.78-7.78 2.81-2.81c.8-.78.8-2.07 0-2.86zM5.41 20L4 18.59l7.72-7.72 1.47 1.35L5.41 20z\"/>\n",
              "  </svg>\n",
              "      </button>\n",
              "      \n",
              "  <style>\n",
              "    .colab-df-container {\n",
              "      display:flex;\n",
              "      flex-wrap:wrap;\n",
              "      gap: 12px;\n",
              "    }\n",
              "\n",
              "    .colab-df-convert {\n",
              "      background-color: #E8F0FE;\n",
              "      border: none;\n",
              "      border-radius: 50%;\n",
              "      cursor: pointer;\n",
              "      display: none;\n",
              "      fill: #1967D2;\n",
              "      height: 32px;\n",
              "      padding: 0 0 0 0;\n",
              "      width: 32px;\n",
              "    }\n",
              "\n",
              "    .colab-df-convert:hover {\n",
              "      background-color: #E2EBFA;\n",
              "      box-shadow: 0px 1px 2px rgba(60, 64, 67, 0.3), 0px 1px 3px 1px rgba(60, 64, 67, 0.15);\n",
              "      fill: #174EA6;\n",
              "    }\n",
              "\n",
              "    [theme=dark] .colab-df-convert {\n",
              "      background-color: #3B4455;\n",
              "      fill: #D2E3FC;\n",
              "    }\n",
              "\n",
              "    [theme=dark] .colab-df-convert:hover {\n",
              "      background-color: #434B5C;\n",
              "      box-shadow: 0px 1px 3px 1px rgba(0, 0, 0, 0.15);\n",
              "      filter: drop-shadow(0px 1px 2px rgba(0, 0, 0, 0.3));\n",
              "      fill: #FFFFFF;\n",
              "    }\n",
              "  </style>\n",
              "\n",
              "      <script>\n",
              "        const buttonEl =\n",
              "          document.querySelector('#df-0bb834ab-c178-4084-9f0d-30b967a0a848 button.colab-df-convert');\n",
              "        buttonEl.style.display =\n",
              "          google.colab.kernel.accessAllowed ? 'block' : 'none';\n",
              "\n",
              "        async function convertToInteractive(key) {\n",
              "          const element = document.querySelector('#df-0bb834ab-c178-4084-9f0d-30b967a0a848');\n",
              "          const dataTable =\n",
              "            await google.colab.kernel.invokeFunction('convertToInteractive',\n",
              "                                                     [key], {});\n",
              "          if (!dataTable) return;\n",
              "\n",
              "          const docLinkHtml = 'Like what you see? Visit the ' +\n",
              "            '<a target=\"_blank\" href=https://colab.research.google.com/notebooks/data_table.ipynb>data table notebook</a>'\n",
              "            + ' to learn more about interactive tables.';\n",
              "          element.innerHTML = '';\n",
              "          dataTable['output_type'] = 'display_data';\n",
              "          await google.colab.output.renderOutput(dataTable, element);\n",
              "          const docLink = document.createElement('div');\n",
              "          docLink.innerHTML = docLinkHtml;\n",
              "          element.appendChild(docLink);\n",
              "        }\n",
              "      </script>\n",
              "    </div>\n",
              "  </div>\n",
              "  "
            ]
          },
          "metadata": {},
          "execution_count": 9
        }
      ]
    },
    {
      "cell_type": "code",
      "source": [
        "_, bp = train_df.age.plot.box(return_type='both')"
      ],
      "metadata": {
        "colab": {
          "base_uri": "https://localhost:8080/",
          "height": 265
        },
        "id": "I18qL14Tn8Uq",
        "outputId": "d633b391-e7c0-4459-b7ae-874b0e598d77"
      },
      "execution_count": null,
      "outputs": [
        {
          "output_type": "display_data",
          "data": {
            "text/plain": [
              "<Figure size 432x288 with 1 Axes>"
            ],
            "image/png": "[encoded data removed]"
          },
          "metadata": {
            "needs_background": "light"
          }
        }
      ]
    },
    {
      "cell_type": "code",
      "source": [
        "plt.hist(train_df.age, bins = 30)"
      ],
      "metadata": {
        "colab": {
          "base_uri": "https://localhost:8080/",
          "height": 502
        },
        "id": "2gE90gCTKX9v",
        "outputId": "e2c931fa-d42f-4848-e746-e3f936ffbe5b"
      },
      "execution_count": null,
      "outputs": [
        {
          "output_type": "execute_result",
          "data": {
            "text/plain": [
              "(array([1.494600e+04, 4.160800e+04, 7.323100e+04, 2.636650e+06,\n",
              "        2.076752e+06, 1.074322e+06, 1.086930e+06, 1.878547e+06,\n",
              "        1.344313e+06, 9.843010e+05, 7.810910e+05, 4.461980e+05,\n",
              "        4.384800e+05, 2.723290e+05, 1.773510e+05, 1.600600e+05,\n",
              "        7.627000e+04, 4.027700e+04, 1.140400e+04, 3.494000e+03,\n",
              "        9.220000e+02, 7.700000e+01, 3.000000e+00, 8.000000e+00,\n",
              "        0.000000e+00, 0.000000e+00, 0.000000e+00, 0.000000e+00,\n",
              "        0.000000e+00, 1.100000e+01]),\n",
              " array([  2. ,   7.4,  12.8,  18.2,  23.6,  29. ,  34.4,  39.8,  45.2,\n",
              "         50.6,  56. ,  61.4,  66.8,  72.2,  77.6,  83. ,  88.4,  93.8,\n",
              "         99.2, 104.6, 110. , 115.4, 120.8, 126.2, 131.6, 137. , 142.4,\n",
              "        147.8, 153.2, 158.6, 164. ]),\n",
              " <a list of 30 Patch objects>)"
            ]
          },
          "metadata": {},
          "execution_count": 13
        },
        {
          "output_type": "display_data",
          "data": {
            "text/plain": [
              "<Figure size 432x288 with 1 Axes>"
            ],
            "image/png": "[encoded data removed]"
          },
          "metadata": {
            "needs_background": "light"
          }
        }
      ]
    },
    {
      "cell_type": "markdown",
      "source": [
        "The feature **age** has some rows with customers  who are older than 100 years and a few customers who are very young. I think there are a lot of incorrect data. We can see that customers who are older 20 and younger 90  are most. One of the ways to overcome outliers is to unite the youngest and most adult customers into groups.\n"
      ],
      "metadata": {
        "id": "hPZPPaJajAVn"
      }
    },
    {
      "cell_type": "code",
      "source": [
        "train_df['age'] = np.where(train_df['age'] < 20, 19, train_df['age'])\n",
        "train_df['age'] = np.where(train_df['age'] > 90, 91, train_df['age'])"
      ],
      "metadata": {
        "id": "sGhTW5jyL_Zb"
      },
      "execution_count": null,
      "outputs": []
    },
    {
      "cell_type": "markdown",
      "source": [
        "result after grouping:"
      ],
      "metadata": {
        "id": "1WRJsm0-jYBV"
      }
    },
    {
      "cell_type": "code",
      "source": [
        "_, bp = train_df.age.plot.box(return_type='both')"
      ],
      "metadata": {
        "colab": {
          "base_uri": "https://localhost:8080/",
          "height": 265
        },
        "id": "q2regnuoMzR2",
        "outputId": "ae0fa2e5-9aa5-4d58-f14f-df78ad0eebfa"
      },
      "execution_count": null,
      "outputs": [
        {
          "output_type": "display_data",
          "data": {
            "text/plain": [
              "<Figure size 432x288 with 1 Axes>"
            ],
            "image/png": "[encoded data removed]"
          },
          "metadata": {
            "needs_background": "light"
          }
        }
      ]
    },
    {
      "cell_type": "code",
      "source": [
        "plt.hist(train_df.age, bins = 30)"
      ],
      "metadata": {
        "colab": {
          "base_uri": "https://localhost:8080/",
          "height": 432
        },
        "id": "cchHTqk-M0k_",
        "outputId": "cc04f67f-e3af-4d02-b3fe-41f6137782f0"
      },
      "execution_count": null,
      "outputs": [
        {
          "output_type": "execute_result",
          "data": {
            "text/plain": [
              "(array([1250237., 1516198., 1554579.,  522173.,  391749.,  507999.,\n",
              "         358151.,  642805.,  548302.,  628764.,  962029.,  585870.,\n",
              "         758443.,  434908.,  384038.,  461340.,  258916.,  327376.,\n",
              "         178919.,  166093.,  233799.,  137017.,  191181.,   99594.,\n",
              "          83576.,  109055.,   65798.,   82834.,   45366.,  132466.]),\n",
              " array([19. , 21.4, 23.8, 26.2, 28.6, 31. , 33.4, 35.8, 38.2, 40.6, 43. ,\n",
              "        45.4, 47.8, 50.2, 52.6, 55. , 57.4, 59.8, 62.2, 64.6, 67. , 69.4,\n",
              "        71.8, 74.2, 76.6, 79. , 81.4, 83.8, 86.2, 88.6, 91. ]),\n",
              " <a list of 30 Patch objects>)"
            ]
          },
          "metadata": {},
          "execution_count": 16
        },
        {
          "output_type": "display_data",
          "data": {
            "text/plain": [
              "<Figure size 432x288 with 1 Axes>"
            ],
            "image/png": "[encoded data removed]"
          },
          "metadata": {
            "needs_background": "light"
          }
        }
      ]
    },
    {
      "cell_type": "markdown",
      "source": [
        "The feature 'antiguedad' (Customer seniority (in months)) contains 38 rows with value -99999. It makes the data very skewed. We should delete rows with this value, because it is an unknown value:\n"
      ],
      "metadata": {
        "id": "GEixVojGlQXi"
      }
    },
    {
      "cell_type": "code",
      "source": [
        "_, bp = train_df.antiguedad.plot.box(return_type='both')"
      ],
      "metadata": {
        "colab": {
          "base_uri": "https://localhost:8080/",
          "height": 276
        },
        "id": "B-R4PY2zsBR-",
        "outputId": "c7e7cb24-d4a4-4b59-d632-4b4ab410fead"
      },
      "execution_count": null,
      "outputs": [
        {
          "output_type": "display_data",
          "data": {
            "text/plain": [
              "<Figure size 432x288 with 1 Axes>"
            ],
            "image/png": "[encoded data removed]"
          },
          "metadata": {
            "needs_background": "light"
          }
        }
      ]
    },
    {
      "cell_type": "code",
      "source": [
        "unkn_rows = train_df[train_df.antiguedad == -999999].index\n",
        "train_df = train_df.drop(unkn_rows, axis = 0)"
      ],
      "metadata": {
        "id": "eSbeFo4oHyhI"
      },
      "execution_count": null,
      "outputs": []
    },
    {
      "cell_type": "markdown",
      "source": [
        "box plot after deleting"
      ],
      "metadata": {
        "id": "cWzlmbTKlaVd"
      }
    },
    {
      "cell_type": "code",
      "source": [
        "_, bp = train_df.antiguedad.plot.box(return_type='both')"
      ],
      "metadata": {
        "colab": {
          "base_uri": "https://localhost:8080/",
          "height": 265
        },
        "id": "hOKhkprMICSs",
        "outputId": "4d1f4b48-c7bf-4c8b-9eab-c54384d30de5"
      },
      "execution_count": null,
      "outputs": [
        {
          "output_type": "display_data",
          "data": {
            "text/plain": [
              "<Figure size 432x288 with 1 Axes>"
            ],
            "image/png": "[encoded data removed]"
          },
          "metadata": {
            "needs_background": "light"
          }
        }
      ]
    },
    {
      "cell_type": "markdown",
      "source": [
        "The feature Renta is also very shifted, because there is 18,9% data much more than 75% quartile.\n"
      ],
      "metadata": {
        "id": "xKL8t_USlhsp"
      }
    },
    {
      "cell_type": "code",
      "source": [
        "_, bp = train_df.renta.plot.box(return_type='both')"
      ],
      "metadata": {
        "colab": {
          "base_uri": "https://localhost:8080/",
          "height": 276
        },
        "id": "eJoKrxh0sBnd",
        "outputId": "2ce37a16-99f7-4d49-9829-f77ae274b21d"
      },
      "execution_count": null,
      "outputs": [
        {
          "output_type": "display_data",
          "data": {
            "text/plain": [
              "<Figure size 432x288 with 1 Axes>"
            ],
            "image/png": "[encoded data removed]"
          },
          "metadata": {
            "needs_background": "light"
          }
        }
      ]
    },
    {
      "cell_type": "markdown",
      "source": [
        "Almost 19% of data are the outliers. And 20% of data is null. Delete these rows will be incorrect. It is necessary to carry out work on the replacement of zero values and emissions. For NA values it can be mean by segmento feature.\n",
        "For outliers it will be grouping.\n",
        "First of all let's fill missing values the mean values by feature **segmento** and **nomprov**.\n",
        "before that let's input the most popular value in feature **nomprov** and **cod_prov**"
      ],
      "metadata": {
        "id": "oG7isLNXlhS1"
      }
    },
    {
      "cell_type": "code",
      "source": [
        "train_df.nomprov.value_counts().head(2)"
      ],
      "metadata": {
        "colab": {
          "base_uri": "https://localhost:8080/"
        },
        "id": "LOaQR8spttW0",
        "outputId": "4af473ec-6db1-4fdd-b187-57c6b2373f71"
      },
      "execution_count": null,
      "outputs": [
        {
          "output_type": "execute_result",
          "data": {
            "text/plain": [
              "MADRID       4475419\n",
              "BARCELONA    1275219\n",
              "Name: nomprov, dtype: int64"
            ]
          },
          "metadata": {},
          "execution_count": 33
        }
      ]
    },
    {
      "cell_type": "code",
      "source": [
        "train_df.nomprov = train_df.nomprov.fillna(\"MADRID\")"
      ],
      "metadata": {
        "id": "SchDYLKXt0KS"
      },
      "execution_count": null,
      "outputs": []
    },
    {
      "cell_type": "code",
      "source": [
        "mean_renta = dict(train_df.renta.groupby([train_df.nomprov, train_df.segmento]).mean())"
      ],
      "metadata": {
        "id": "m4kcvs8QouFk"
      },
      "execution_count": null,
      "outputs": []
    },
    {
      "cell_type": "code",
      "source": [
        "for key, value in mean_renta.items():\n",
        "    # print(key)\n",
        "    train_df.loc[(train_df.nomprov == key[0]) & (train_df.segmento == key[1]) & (train_df.renta.isnull() == True), 'renta'] = value"
      ],
      "metadata": {
        "id": "sPG5BGcsrsZG"
      },
      "execution_count": null,
      "outputs": []
    },
    {
      "cell_type": "markdown",
      "source": [
        "other null values in feature renta we can input by mean income by province"
      ],
      "metadata": {
        "id": "WOan0TJJx9-M"
      }
    },
    {
      "cell_type": "code",
      "source": [
        "train_df.loc[train_df.renta.isnull(), \"renta\"] = train_df.groupby(train_df.nomprov).renta.transform('mean')"
      ],
      "metadata": {
        "id": "zSFBFrJfx8tV"
      },
      "execution_count": null,
      "outputs": []
    },
    {
      "cell_type": "code",
      "source": [
        "sns.heatmap(train_df[num_columns].corr(), annot=True)\n",
        "plt.show()"
      ],
      "metadata": {
        "colab": {
          "base_uri": "https://localhost:8080/",
          "height": 269
        },
        "id": "2MftHnRayEfI",
        "outputId": "c2fa4836-962a-4ed9-bf80-c6252b081490"
      },
      "execution_count": null,
      "outputs": [
        {
          "output_type": "display_data",
          "data": {
            "text/plain": [
              "<Figure size 432x288 with 2 Axes>"
            ],
            "image/png": "[encoded data removed]"
          },
          "metadata": {
            "needs_background": "light"
          }
        }
      ]
    },
    {
      "cell_type": "markdown",
      "source": [
        "now we can replace the missing values feature **segmento** based on **renta**. "
      ],
      "metadata": {
        "id": "NIJHXYPVzkY_"
      }
    },
    {
      "cell_type": "code",
      "source": [
        "train_df.renta.groupby([train_df.segmento]).mean()"
      ],
      "metadata": {
        "colab": {
          "base_uri": "https://localhost:8080/"
        },
        "id": "aC4IHEg_0_Cl",
        "outputId": "1e822d48-a5fc-490f-91a0-be6c4212f702"
      },
      "execution_count": null,
      "outputs": [
        {
          "output_type": "execute_result",
          "data": {
            "text/plain": [
              "segmento\n",
              "01 - TOP              173887.182284\n",
              "02 - PARTICULARES     138889.796082\n",
              "03 - UNIVERSITARIO    115673.619697\n",
              "Name: renta, dtype: float64"
            ]
          },
          "metadata": {},
          "execution_count": 54
        }
      ]
    },
    {
      "cell_type": "code",
      "source": [
        "train_df[train_df.renta <= 115000].segmento.fillna(\"03 - UNIVERSITARIO\", inplace=True)\n",
        "train_df[train_df.renta <= 140000].segmento.fillna(\"02 - PARTICULARES\", inplace=True)\n",
        "train_df.segmento.fillna(\"01 - TOP\", inplace=True)"
      ],
      "metadata": {
        "colab": {
          "base_uri": "https://localhost:8080/"
        },
        "id": "m7jneKky3cs9",
        "outputId": "4ef3c9e2-373c-4dd9-e384-67af6604fc9f"
      },
      "execution_count": null,
      "outputs": [
        {
          "output_type": "stream",
          "name": "stderr",
          "text": [
            "/usr/local/lib/python3.7/dist-packages/pandas/core/generic.py:6392: SettingWithCopyWarning: \n",
            "A value is trying to be set on a copy of a slice from a DataFrame\n",
            "\n",
            "See the caveats in the documentation: https://pandas.pydata.org/pandas-docs/stable/user_guide/indexing.html#returning-a-view-versus-a-copy\n",
            "  return self._update_inplace(result)\n"
          ]
        }
      ]
    },
    {
      "cell_type": "markdown",
      "source": [
        "let's work with feature **sexo** "
      ],
      "metadata": {
        "id": "whz9YBTd5sL_"
      }
    },
    {
      "cell_type": "code",
      "source": [
        "train_df.sexo.value_counts()"
      ],
      "metadata": {
        "colab": {
          "base_uri": "https://localhost:8080/"
        },
        "id": "jXF-Akcg5z8o",
        "outputId": "78272b6a-2a16-48b5-d012-351d344abcc3"
      },
      "execution_count": null,
      "outputs": [
        {
          "output_type": "execute_result",
          "data": {
            "text/plain": [
              "V    7424214\n",
              "H    6195253\n",
              "Name: sexo, dtype: int64"
            ]
          },
          "metadata": {},
          "execution_count": 62
        }
      ]
    },
    {
      "cell_type": "code",
      "source": [
        "train_df.sexo.fillna(\"V\", inplace=True)"
      ],
      "metadata": {
        "id": "vxuMas7j6SJr"
      },
      "execution_count": null,
      "outputs": []
    },
    {
      "cell_type": "markdown",
      "source": [
        "**indrel_1mes** and **tiprel_1mes**. There are 0.89% NA values. And types of data are different. We will not to make a ML models and for EDA analysis could be useful change values in a text format according to instructions"
      ],
      "metadata": {
        "id": "_Ws26LA-8lQH"
      }
    },
    {
      "cell_type": "code",
      "source": [
        "train_df.indrel_1mes.value_counts()"
      ],
      "metadata": {
        "colab": {
          "base_uri": "https://localhost:8080/"
        },
        "id": "R-ZL8l2h9OtV",
        "outputId": "b55bec4e-7e32-4398-913b-3d3f0760d259"
      },
      "execution_count": null,
      "outputs": [
        {
          "output_type": "execute_result",
          "data": {
            "text/plain": [
              "1.0    7277589\n",
              "1.0    4017733\n",
              "1      2195321\n",
              "3.0       1804\n",
              "3.0       1409\n",
              "3         1137\n",
              "P          874\n",
              "2          483\n",
              "2.0        479\n",
              "2.0        355\n",
              "4.0        143\n",
              "4.0         93\n",
              "4           70\n",
              "Name: indrel_1mes, dtype: int64"
            ]
          },
          "metadata": {},
          "execution_count": 70
        }
      ]
    },
    {
      "cell_type": "code",
      "source": [
        "#Customer type at the beginning of the month ,1 (First/Primary customer), 2 (co-owner ),P (Potential),3 (former primary), 4(former co-owner)\n",
        "\n",
        "map_indrel_1mes = {1: 'First/Primary', \n",
        "                   '1.0': 'First/Primary',\n",
        "                   '1': 'First/Primary',\n",
        "                   '3.0': 'Former primary',\n",
        "                   3: 'Former primary',\n",
        "                   '3': 'Former primary',\n",
        "                   'P': 'Potential',\n",
        "                   2: 'Co-owner', \n",
        "                   '2.0': 'Co-owner',\n",
        "                   '2': 'Co-owner',\n",
        "                   4: 'Former Co-owner', \n",
        "                   '4.0': 'Former Co-owner',\n",
        "                   '4': 'Former Co-owner'}"
      ],
      "metadata": {
        "id": "hOBBhG-B9W65"
      },
      "execution_count": null,
      "outputs": []
    },
    {
      "cell_type": "code",
      "source": [
        "train_df.indrel_1mes = train_df.indrel_1mes.map(map_indrel_1mes)"
      ],
      "metadata": {
        "id": "Q6LVdNbc-_wy"
      },
      "execution_count": null,
      "outputs": []
    },
    {
      "cell_type": "code",
      "source": [
        "train_df.indrel_1mes.value_counts()"
      ],
      "metadata": {
        "colab": {
          "base_uri": "https://localhost:8080/"
        },
        "id": "XhTPi1mf_Thm",
        "outputId": "d63cfcd6-503d-454d-92fd-f4d3b4ea7d22"
      },
      "execution_count": null,
      "outputs": [
        {
          "output_type": "execute_result",
          "data": {
            "text/plain": [
              "First/Primary      13490643\n",
              "Former primary         4350\n",
              "Co-owner               1317\n",
              "Potential               874\n",
              "Former Co-owner         306\n",
              "Name: indrel_1mes, dtype: int64"
            ]
          },
          "metadata": {},
          "execution_count": 81
        }
      ]
    },
    {
      "cell_type": "code",
      "source": [
        "train_df.indrel_1mes.fillna('First/Primary', inplace=True)"
      ],
      "metadata": {
        "id": "tRoi1OMX_oz1"
      },
      "execution_count": null,
      "outputs": []
    },
    {
      "cell_type": "code",
      "source": [
        "train_df.tiprel_1mes.value_counts()"
      ],
      "metadata": {
        "colab": {
          "base_uri": "https://localhost:8080/"
        },
        "id": "--nYd52G_xrS",
        "outputId": "9546d25c-5502-406d-a0cf-1b9d1b48eefc"
      },
      "execution_count": null,
      "outputs": [
        {
          "output_type": "execute_result",
          "data": {
            "text/plain": [
              "I    7304875\n",
              "A    6187085\n",
              "P       4656\n",
              "R        870\n",
              "N          4\n",
              "Name: tiprel_1mes, dtype: int64"
            ]
          },
          "metadata": {},
          "execution_count": 84
        }
      ]
    },
    {
      "cell_type": "code",
      "source": [
        "# A (active), I (inactive), P (former customer),R (Potential)\n",
        "#what is mean N?\n",
        "\n",
        "map_tiprel_1mes = {'A': 'Active', \n",
        "                   'I': 'Inactive',\n",
        "                   'P': 'Former customer',\n",
        "                   'R': 'Potential'}\n",
        "\n",
        "train_df.tiprel_1mes = train_df.tiprel_1mes.map(map_tiprel_1mes)\n",
        "train_df.tiprel_1mes.fillna('I', inplace=True)"
      ],
      "metadata": {
        "id": "KEvh8vAhAeyD"
      },
      "execution_count": null,
      "outputs": []
    },
    {
      "cell_type": "markdown",
      "source": [
        "**canal_entrada**. Let's see which of channel the most popular in different province"
      ],
      "metadata": {
        "id": "QAaBPteyB3nt"
      }
    },
    {
      "cell_type": "code",
      "source": [
        "dict_best_chanels = {}\n",
        "for i in train_df.nomprov.unique():\n",
        "    dict_best_chanels[i] = train_df[train_df.nomprov == i].canal_entrada.value_counts().head(1).index.to_list()[0]"
      ],
      "metadata": {
        "id": "S_qRiLwzJjmH"
      },
      "execution_count": null,
      "outputs": []
    },
    {
      "cell_type": "markdown",
      "source": [
        "now we can replace the missing values by the most popular channel in each province  "
      ],
      "metadata": {
        "id": "JrTP0c3hORoY"
      }
    },
    {
      "cell_type": "code",
      "source": [
        "for key, value in dict_best_chanels.items():\n",
        "      train_df.loc[(train_df.nomprov == key) & (train_df.canal_entrada.isnull() == True), 'canal_entrada'] = value"
      ],
      "metadata": {
        "id": "ImR_MApGMPlF"
      },
      "execution_count": null,
      "outputs": []
    },
    {
      "cell_type": "markdown",
      "source": [
        "let's change date columns to date format"
      ],
      "metadata": {
        "id": "-l5hHYaSVptH"
      }
    },
    {
      "cell_type": "code",
      "source": [
        "train_df.fecha_dato = pd.to_datetime(train_df.fecha_dato, format=\"%Y-%m-%d\")\n",
        "train_df.fecha_alta = pd.to_datetime(train_df.fecha_alta, format=\"%Y-%m-%d\")"
      ],
      "metadata": {
        "id": "JWQMKh4YVYzx"
      },
      "execution_count": null,
      "outputs": []
    },
    {
      "cell_type": "code",
      "source": [
        "train_df.ind_nuevo.value_counts()"
      ],
      "metadata": {
        "colab": {
          "base_uri": "https://localhost:8080/"
        },
        "id": "6eNwnu3fV0z8",
        "outputId": "9b575c86-b4e9-4e4d-8998-fa63d3f16b97"
      },
      "execution_count": null,
      "outputs": [
        {
          "output_type": "execute_result",
          "data": {
            "text/plain": [
              "0.0    12808330\n",
              "1.0      811207\n",
              "Name: ind_nuevo, dtype: int64"
            ]
          },
          "metadata": {},
          "execution_count": 31
        }
      ]
    },
    {
      "cell_type": "markdown",
      "source": [
        "indrel - 1 (First/Primary), 99 (Primary customer during the month but not at the end of the month). No NA values. If you build an ML model, it could be better to change 99 on 0 because it is scaled for ML models."
      ],
      "metadata": {
        "id": "dNQp0hNoWLnR"
      }
    },
    {
      "cell_type": "code",
      "source": [
        "train_df.indrel.value_counts()"
      ],
      "metadata": {
        "colab": {
          "base_uri": "https://localhost:8080/"
        },
        "id": "3GwfHwJUWD0p",
        "outputId": "b90abe0f-8d1d-46dd-88db-6103eeb7d1f8"
      },
      "execution_count": null,
      "outputs": [
        {
          "output_type": "execute_result",
          "data": {
            "text/plain": [
              "1.0     13594744\n",
              "99.0       24793\n",
              "Name: indrel, dtype: int64"
            ]
          },
          "metadata": {},
          "execution_count": 32
        }
      ]
    },
    {
      "cell_type": "code",
      "source": [
        "train_df.indresi.value_counts()"
      ],
      "metadata": {
        "colab": {
          "base_uri": "https://localhost:8080/"
        },
        "id": "eIWfc-7uWWZq",
        "outputId": "4e26fb46-c979-429b-cb28-612cb93f3e87"
      },
      "execution_count": null,
      "outputs": [
        {
          "output_type": "execute_result",
          "data": {
            "text/plain": [
              "S    13553673\n",
              "N       65864\n",
              "Name: indresi, dtype: int64"
            ]
          },
          "metadata": {},
          "execution_count": 34
        }
      ]
    },
    {
      "cell_type": "code",
      "source": [
        "train_df.indext.value_counts()"
      ],
      "metadata": {
        "colab": {
          "base_uri": "https://localhost:8080/"
        },
        "id": "KXdBOCnhXNAR",
        "outputId": "8d777fa3-b940-4693-e97e-42d1b26dd481"
      },
      "execution_count": null,
      "outputs": [
        {
          "output_type": "execute_result",
          "data": {
            "text/plain": [
              "N    12974801\n",
              "S      644736\n",
              "Name: indext, dtype: int64"
            ]
          },
          "metadata": {},
          "execution_count": 35
        }
      ]
    },
    {
      "cell_type": "code",
      "source": [
        "train_df.indfall.value_counts()"
      ],
      "metadata": {
        "colab": {
          "base_uri": "https://localhost:8080/"
        },
        "id": "EqfMn1pJXZdW",
        "outputId": "5feda979-45c2-466d-8485-532ae6214619"
      },
      "execution_count": null,
      "outputs": [
        {
          "output_type": "execute_result",
          "data": {
            "text/plain": [
              "N    13584775\n",
              "S       34762\n",
              "Name: indfall, dtype: int64"
            ]
          },
          "metadata": {},
          "execution_count": 36
        }
      ]
    },
    {
      "cell_type": "code",
      "source": [
        "train_df.ind_actividad_cliente.value_counts()"
      ],
      "metadata": {
        "colab": {
          "base_uri": "https://localhost:8080/"
        },
        "id": "mn0_N0ZrXfBN",
        "outputId": "38e9b5a1-f5e5-4b7f-d794-351e6a2b9f7c"
      },
      "execution_count": null,
      "outputs": [
        {
          "output_type": "execute_result",
          "data": {
            "text/plain": [
              "0.0    7384373\n",
              "1.0    6235164\n",
              "Name: ind_actividad_cliente, dtype: int64"
            ]
          },
          "metadata": {},
          "execution_count": 37
        }
      ]
    },
    {
      "cell_type": "markdown",
      "source": [
        "Other features describe the product and customer's product availability.\n"
      ],
      "metadata": {
        "id": "_yuzW-IqXway"
      }
    },
    {
      "cell_type": "code",
      "source": [
        "train_df.ind_nomina_ult1.value_counts()"
      ],
      "metadata": {
        "colab": {
          "base_uri": "https://localhost:8080/"
        },
        "id": "cKHl6cgXX0YH",
        "outputId": "8fa4864c-2c72-4427-e030-e6aefc859e3a"
      },
      "execution_count": null,
      "outputs": [
        {
          "output_type": "execute_result",
          "data": {
            "text/plain": [
              "0.0    12873585\n",
              "1.0      745735\n",
              "Name: ind_nomina_ult1, dtype: int64"
            ]
          },
          "metadata": {},
          "execution_count": 38
        }
      ]
    },
    {
      "cell_type": "code",
      "source": [
        "train_df.ind_nom_pens_ult1.value_counts()"
      ],
      "metadata": {
        "colab": {
          "base_uri": "https://localhost:8080/"
        },
        "id": "siOujWG5X6tU",
        "outputId": "3fad3a1e-af1c-4e11-9b84-681df7420749"
      },
      "execution_count": null,
      "outputs": [
        {
          "output_type": "execute_result",
          "data": {
            "text/plain": [
              "0.0    12809481\n",
              "1.0      809839\n",
              "Name: ind_nom_pens_ult1, dtype: int64"
            ]
          },
          "metadata": {},
          "execution_count": 39
        }
      ]
    },
    {
      "cell_type": "code",
      "source": [
        "train_df.ind_nom_pens_ult1.fillna(0, inplace=True)\n",
        "train_df.ind_nomina_ult1.fillna(0, inplace=True)"
      ],
      "metadata": {
        "id": "GfZmAeaPYBKG"
      },
      "execution_count": null,
      "outputs": []
    },
    {
      "cell_type": "code",
      "source": [
        "train_df.isnull().sum() / train_df.shape[0] *100"
      ],
      "metadata": {
        "colab": {
          "base_uri": "https://localhost:8080/"
        },
        "id": "5VvfYNjNxwh7",
        "outputId": "13915d4c-1c16-403d-da26-a10828add739"
      },
      "execution_count": null,
      "outputs": [
        {
          "output_type": "execute_result",
          "data": {
            "text/plain": [
              "fecha_dato               0.0\n",
              "ncodpers                 0.0\n",
              "ind_empleado             0.0\n",
              "pais_residencia          0.0\n",
              "sexo                     0.0\n",
              "age                      0.0\n",
              "fecha_alta               0.0\n",
              "ind_nuevo                0.0\n",
              "antiguedad               0.0\n",
              "indrel                   0.0\n",
              "indrel_1mes              0.0\n",
              "tiprel_1mes              0.0\n",
              "indresi                  0.0\n",
              "indext                   0.0\n",
              "canal_entrada            0.0\n",
              "indfall                  0.0\n",
              "nomprov                  0.0\n",
              "ind_actividad_cliente    0.0\n",
              "renta                    0.0\n",
              "segmento                 0.0\n",
              "ind_ahor_fin_ult1        0.0\n",
              "ind_aval_fin_ult1        0.0\n",
              "ind_cco_fin_ult1         0.0\n",
              "ind_cder_fin_ult1        0.0\n",
              "ind_cno_fin_ult1         0.0\n",
              "ind_ctju_fin_ult1        0.0\n",
              "ind_ctma_fin_ult1        0.0\n",
              "ind_ctop_fin_ult1        0.0\n",
              "ind_ctpp_fin_ult1        0.0\n",
              "ind_deco_fin_ult1        0.0\n",
              "ind_deme_fin_ult1        0.0\n",
              "ind_dela_fin_ult1        0.0\n",
              "ind_ecue_fin_ult1        0.0\n",
              "ind_fond_fin_ult1        0.0\n",
              "ind_hip_fin_ult1         0.0\n",
              "ind_plan_fin_ult1        0.0\n",
              "ind_pres_fin_ult1        0.0\n",
              "ind_reca_fin_ult1        0.0\n",
              "ind_tjcr_fin_ult1        0.0\n",
              "ind_valo_fin_ult1        0.0\n",
              "ind_viv_fin_ult1         0.0\n",
              "ind_nomina_ult1          0.0\n",
              "ind_nom_pens_ult1        0.0\n",
              "ind_recibo_ult1          0.0\n",
              "dtype: float64"
            ]
          },
          "metadata": {},
          "execution_count": 43
        }
      ]
    },
    {
      "cell_type": "markdown",
      "source": [
        "let's save the clean data"
      ],
      "metadata": {
        "id": "AHEcxa50aoDS"
      }
    },
    {
      "cell_type": "code",
      "source": [
        "train_df.to_csv('/content/drive/MyDrive/Colab Notebooks/Data Glacier internship/Group_project/clean_data.csv', index=False, header=True)"
      ],
      "metadata": {
        "id": "M6-Gx3EmannM"
      },
      "execution_count": null,
      "outputs": []
    },
    {
      "cell_type": "markdown",
      "source": [
        "Now we are ready to make EDA analysis. "
      ],
      "metadata": {
        "id": "DVd-FpqwYSvn"
      }
    }
  ]
}